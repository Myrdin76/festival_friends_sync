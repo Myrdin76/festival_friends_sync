{
 "cells": [
  {
   "cell_type": "code",
   "execution_count": 2,
   "metadata": {},
   "outputs": [],
   "source": [
    "import requests as r\n",
    "import pandas as pd\n",
    "from bs4 import BeautifulSoup\n",
    "\n",
    "from sqlalchemy import create_engine\n",
    "from config import Config\n",
    "import pandas as pd"
   ]
  },
  {
   "cell_type": "code",
   "execution_count": 41,
   "metadata": {},
   "outputs": [],
   "source": [
    "BASE_URL = \"https://blokkenschema.nl\""
   ]
  },
  {
   "cell_type": "code",
   "execution_count": 14,
   "metadata": {},
   "outputs": [],
   "source": [
    "res = r.get(BASE_URL+ '/lowlands-2023/line-up')"
   ]
  },
  {
   "cell_type": "code",
   "execution_count": 16,
   "metadata": {},
   "outputs": [],
   "source": [
    "soup = BeautifulSoup(res.text, 'html.parser')\n",
    "hl_links = [li.a['href'] for li in soup.find_all('li', class_='headliner')]"
   ]
  },
  {
   "cell_type": "code",
   "execution_count": 92,
   "metadata": {},
   "outputs": [],
   "source": [
    "def get_schema_data(link):\n",
    "    res_hl  = r.get(BASE_URL + link)\n",
    "    soup_hl = BeautifulSoup(res_hl.text, 'html.parser')\n",
    "    hl_data = soup_hl.find('div', class_='performance-data')\n",
    "    return {\n",
    "        'name': soup_hl.find('div', itemprop='performer').find('h3').string,\n",
    "        'location': hl_data.find('div', itemprop='location').string,\n",
    "        'start_date': hl_data.find('div', itemprop='startDate')['content'],\n",
    "        'end_date': hl_data.find('span', itemprop='endDate')['content'],\n",
    "    }"
   ]
  },
  {
   "cell_type": "code",
   "execution_count": 94,
   "metadata": {},
   "outputs": [],
   "source": [
    "list_of_schema = [get_schema_data(link) for link in hl_links]\n",
    "df = pd.DataFrame(list_of_schema)\n",
    "df.to_csv(\"lowlands_schema.csv\")"
   ]
  },
  {
   "cell_type": "code",
   "execution_count": 29,
   "metadata": {},
   "outputs": [],
   "source": [
    "cfg = Config()\n",
    "engine = create_engine(cfg.SQLALCHEMY_DATABASE_URI, echo=True)\n",
    "df.to_sql('artist', con=engine, if_exists='append', index=False)"
   ]
  }
 ],
 "metadata": {
  "kernelspec": {
   "display_name": "Python 3",
   "language": "python",
   "name": "python3"
  },
  "language_info": {
   "codemirror_mode": {
    "name": "ipython",
    "version": 3
   },
   "file_extension": ".py",
   "mimetype": "text/x-python",
   "name": "python",
   "nbconvert_exporter": "python",
   "pygments_lexer": "ipython3",
   "version": "3.11.4"
  },
  "orig_nbformat": 4
 },
 "nbformat": 4,
 "nbformat_minor": 2
}
