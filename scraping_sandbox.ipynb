{
 "cells": [
  {
   "cell_type": "code",
   "execution_count": 2,
   "metadata": {},
   "outputs": [],
   "source": [
    "import requests as r\n",
    "import pandas as pd\n",
    "from bs4 import BeautifulSoup"
   ]
  },
  {
   "cell_type": "code",
   "execution_count": 41,
   "metadata": {},
   "outputs": [],
   "source": [
    "BASE_URL = \"https://blokkenschema.nl\""
   ]
  },
  {
   "cell_type": "code",
   "execution_count": 14,
   "metadata": {},
   "outputs": [],
   "source": [
    "res = r.get(BASE_URL+ '/lowlands-2023/line-up')"
   ]
  },
  {
   "cell_type": "code",
   "execution_count": 16,
   "metadata": {},
   "outputs": [],
   "source": [
    "soup = BeautifulSoup(res.text, 'html.parser')\n",
    "hl_links = [li.a['href'] for li in soup.find_all('li', class_='headliner')]"
   ]
  },
  {
   "cell_type": "code",
   "execution_count": 92,
   "metadata": {},
   "outputs": [],
   "source": [
    "def get_schema_data(link):\n",
    "    res_hl  = r.get(BASE_URL + link)\n",
    "    soup_hl = BeautifulSoup(res_hl.text, 'html.parser')\n",
    "    hl_data = soup_hl.find('div', class_='performance-data')\n",
    "    return {\n",
    "        'name': soup_hl.find('div', itemprop='performer').find('h3').string,\n",
    "        'location': hl_data.find('div', itemprop='location').string,\n",
    "        'start_date': hl_data.find('div', itemprop='startDate')['content'],\n",
    "        'end_date': hl_data.find('span', itemprop='endDate')['content'],\n",
    "    }"
   ]
  },
  {
   "cell_type": "code",
   "execution_count": 94,
   "metadata": {},
   "outputs": [],
   "source": [
    "list_of_schema = [get_schema_data(link) for link in hl_links]\n",
    "df = pd.DataFrame(list_of_schema)\n",
    "df.to_csv(\"lowlands_schema.csv\")"
   ]
  },
  {
   "cell_type": "code",
   "execution_count": 3,
   "metadata": {},
   "outputs": [
    {
     "data": {
      "text/html": [
       "<div>\n",
       "<style scoped>\n",
       "    .dataframe tbody tr th:only-of-type {\n",
       "        vertical-align: middle;\n",
       "    }\n",
       "\n",
       "    .dataframe tbody tr th {\n",
       "        vertical-align: top;\n",
       "    }\n",
       "\n",
       "    .dataframe thead th {\n",
       "        text-align: right;\n",
       "    }\n",
       "</style>\n",
       "<table border=\"1\" class=\"dataframe\">\n",
       "  <thead>\n",
       "    <tr style=\"text-align: right;\">\n",
       "      <th></th>\n",
       "      <th>id</th>\n",
       "      <th>name</th>\n",
       "      <th>stage</th>\n",
       "      <th>startdate</th>\n",
       "      <th>enddate</th>\n",
       "    </tr>\n",
       "  </thead>\n",
       "  <tbody>\n",
       "    <tr>\n",
       "      <th>0</th>\n",
       "      <td>0</td>\n",
       "      <td>(Future) Festival Classics</td>\n",
       "      <td>Heineken</td>\n",
       "      <td>2023-08-18 23:00:00</td>\n",
       "      <td>2023-08-19 01:00:00</td>\n",
       "    </tr>\n",
       "    <tr>\n",
       "      <th>1</th>\n",
       "      <td>1</td>\n",
       "      <td>¥///0 $#£[[</td>\n",
       "      <td>India</td>\n",
       "      <td>2023-08-18 21:55:00</td>\n",
       "      <td>2023-08-18 22:55:00</td>\n",
       "    </tr>\n",
       "    <tr>\n",
       "      <th>2</th>\n",
       "      <td>2</td>\n",
       "      <td>070 Shake</td>\n",
       "      <td>India</td>\n",
       "      <td>2023-08-19 19:00:00</td>\n",
       "      <td>2023-08-19 20:00:00</td>\n",
       "    </tr>\n",
       "    <tr>\n",
       "      <th>3</th>\n",
       "      <td>3</td>\n",
       "      <td>155 &amp; Maas Theater En Dans: Controle</td>\n",
       "      <td>Juliet</td>\n",
       "      <td>2023-08-19 17:00:00</td>\n",
       "      <td>2023-08-19 18:00:00</td>\n",
       "    </tr>\n",
       "    <tr>\n",
       "      <th>4</th>\n",
       "      <td>4</td>\n",
       "      <td>Abel Van Gijlswijk: Aabz ’23 Tour – Rebranding...</td>\n",
       "      <td>Juliet</td>\n",
       "      <td>2023-08-18 17:00:00</td>\n",
       "      <td>2023-08-18 18:00:00</td>\n",
       "    </tr>\n",
       "  </tbody>\n",
       "</table>\n",
       "</div>"
      ],
      "text/plain": [
       "   id                                               name     stage  \\\n",
       "0   0                        (Future) Festival Classics   Heineken   \n",
       "1   1                                       ¥///0 $#£[[      India   \n",
       "2   2                                         070 Shake      India   \n",
       "3   3              155 & Maas Theater En Dans: Controle     Juliet   \n",
       "4   4  Abel Van Gijlswijk: Aabz ’23 Tour – Rebranding...    Juliet   \n",
       "\n",
       "            startdate             enddate  \n",
       "0 2023-08-18 23:00:00 2023-08-19 01:00:00  \n",
       "1 2023-08-18 21:55:00 2023-08-18 22:55:00  \n",
       "2 2023-08-19 19:00:00 2023-08-19 20:00:00  \n",
       "3 2023-08-19 17:00:00 2023-08-19 18:00:00  \n",
       "4 2023-08-18 17:00:00 2023-08-18 18:00:00  "
      ]
     },
     "execution_count": 3,
     "metadata": {},
     "output_type": "execute_result"
    }
   ],
   "source": [
    "## write dataframe to a database with sqlalchemy engine\n",
    "from sqlalchemy import create_engine\n",
    "from config import Config\n",
    "\n",
    "df = pd.read_csv('lowlands_schema.csv')\n",
    "\n",
    "df['startdate'] = df['startdate'].str.replace(\"+02:00\", \"\")\n",
    "df['enddate'] = df['enddate'].str.replace(\"+02:00\", \"\")\n",
    "\n",
    "df['startdate'] = pd.to_datetime(df['startdate'])\n",
    "df['enddate'] = pd.to_datetime(df['enddate'])\n",
    "\n",
    "df.head()"
   ]
  },
  {
   "cell_type": "code",
   "execution_count": 4,
   "metadata": {},
   "outputs": [
    {
     "data": {
      "text/plain": [
       "Index(['id', 'name', 'stage', 'startdate', 'enddate'], dtype='object')"
      ]
     },
     "execution_count": 4,
     "metadata": {},
     "output_type": "execute_result"
    }
   ],
   "source": [
    "df.columns"
   ]
  },
  {
   "cell_type": "code",
   "execution_count": 5,
   "metadata": {},
   "outputs": [],
   "source": [
    "df['festival'] = \"Lowlands\""
   ]
  },
  {
   "cell_type": "code",
   "execution_count": 6,
   "metadata": {},
   "outputs": [
    {
     "data": {
      "text/html": [
       "<div>\n",
       "<style scoped>\n",
       "    .dataframe tbody tr th:only-of-type {\n",
       "        vertical-align: middle;\n",
       "    }\n",
       "\n",
       "    .dataframe tbody tr th {\n",
       "        vertical-align: top;\n",
       "    }\n",
       "\n",
       "    .dataframe thead th {\n",
       "        text-align: right;\n",
       "    }\n",
       "</style>\n",
       "<table border=\"1\" class=\"dataframe\">\n",
       "  <thead>\n",
       "    <tr style=\"text-align: right;\">\n",
       "      <th></th>\n",
       "      <th>artist_id</th>\n",
       "      <th>name</th>\n",
       "      <th>stage</th>\n",
       "      <th>startdate</th>\n",
       "      <th>enddate</th>\n",
       "      <th>festival</th>\n",
       "    </tr>\n",
       "  </thead>\n",
       "  <tbody>\n",
       "    <tr>\n",
       "      <th>0</th>\n",
       "      <td>0</td>\n",
       "      <td>(Future) Festival Classics</td>\n",
       "      <td>Heineken</td>\n",
       "      <td>2023-08-18 23:00:00</td>\n",
       "      <td>2023-08-19 01:00:00</td>\n",
       "      <td>Lowlands</td>\n",
       "    </tr>\n",
       "    <tr>\n",
       "      <th>1</th>\n",
       "      <td>1</td>\n",
       "      <td>¥///0 $#£[[</td>\n",
       "      <td>India</td>\n",
       "      <td>2023-08-18 21:55:00</td>\n",
       "      <td>2023-08-18 22:55:00</td>\n",
       "      <td>Lowlands</td>\n",
       "    </tr>\n",
       "    <tr>\n",
       "      <th>2</th>\n",
       "      <td>2</td>\n",
       "      <td>070 Shake</td>\n",
       "      <td>India</td>\n",
       "      <td>2023-08-19 19:00:00</td>\n",
       "      <td>2023-08-19 20:00:00</td>\n",
       "      <td>Lowlands</td>\n",
       "    </tr>\n",
       "    <tr>\n",
       "      <th>3</th>\n",
       "      <td>3</td>\n",
       "      <td>155 &amp; Maas Theater En Dans: Controle</td>\n",
       "      <td>Juliet</td>\n",
       "      <td>2023-08-19 17:00:00</td>\n",
       "      <td>2023-08-19 18:00:00</td>\n",
       "      <td>Lowlands</td>\n",
       "    </tr>\n",
       "    <tr>\n",
       "      <th>4</th>\n",
       "      <td>4</td>\n",
       "      <td>Abel Van Gijlswijk: Aabz ’23 Tour – Rebranding...</td>\n",
       "      <td>Juliet</td>\n",
       "      <td>2023-08-18 17:00:00</td>\n",
       "      <td>2023-08-18 18:00:00</td>\n",
       "      <td>Lowlands</td>\n",
       "    </tr>\n",
       "  </tbody>\n",
       "</table>\n",
       "</div>"
      ],
      "text/plain": [
       "   artist_id                                               name     stage  \\\n",
       "0          0                        (Future) Festival Classics   Heineken   \n",
       "1          1                                       ¥///0 $#£[[      India   \n",
       "2          2                                         070 Shake      India   \n",
       "3          3              155 & Maas Theater En Dans: Controle     Juliet   \n",
       "4          4  Abel Van Gijlswijk: Aabz ’23 Tour – Rebranding...    Juliet   \n",
       "\n",
       "            startdate             enddate  festival  \n",
       "0 2023-08-18 23:00:00 2023-08-19 01:00:00  Lowlands  \n",
       "1 2023-08-18 21:55:00 2023-08-18 22:55:00  Lowlands  \n",
       "2 2023-08-19 19:00:00 2023-08-19 20:00:00  Lowlands  \n",
       "3 2023-08-19 17:00:00 2023-08-19 18:00:00  Lowlands  \n",
       "4 2023-08-18 17:00:00 2023-08-18 18:00:00  Lowlands  "
      ]
     },
     "execution_count": 6,
     "metadata": {},
     "output_type": "execute_result"
    }
   ],
   "source": [
    "df.head()"
   ]
  },
  {
   "cell_type": "code",
   "execution_count": 7,
   "metadata": {},
   "outputs": [
    {
     "data": {
      "text/plain": [
       "238"
      ]
     },
     "execution_count": 7,
     "metadata": {},
     "output_type": "execute_result"
    }
   ],
   "source": [
    "cfg = Config()\n",
    "engine = create_engine(cfg.SQLALCHEMY_DATABASE_URI, echo=True)\n",
    "df.to_sql('artist', con=engine, if_exists='append', index=False)"
   ]
  }
 ],
 "metadata": {
  "kernelspec": {
   "display_name": "Python 3",
   "language": "python",
   "name": "python3"
  },
  "language_info": {
   "codemirror_mode": {
    "name": "ipython",
    "version": 3
   },
   "file_extension": ".py",
   "mimetype": "text/x-python",
   "name": "python",
   "nbconvert_exporter": "python",
   "pygments_lexer": "ipython3",
   "version": "3.11.4"
  },
  "orig_nbformat": 4
 },
 "nbformat": 4,
 "nbformat_minor": 2
}
