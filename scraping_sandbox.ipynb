{
 "cells": [
  {
   "cell_type": "code",
   "execution_count": 2,
   "metadata": {},
   "outputs": [],
   "source": [
    "import requests as r\n",
    "import pandas as pd\n",
    "from bs4 import BeautifulSoup"
   ]
  },
  {
   "cell_type": "code",
   "execution_count": 41,
   "metadata": {},
   "outputs": [],
   "source": [
    "BASE_URL = \"https://blokkenschema.nl\""
   ]
  },
  {
   "cell_type": "code",
   "execution_count": 14,
   "metadata": {},
   "outputs": [],
   "source": [
    "res = r.get(BASE_URL+ '/lowlands-2023/line-up')"
   ]
  },
  {
   "cell_type": "code",
   "execution_count": 16,
   "metadata": {},
   "outputs": [],
   "source": [
    "soup = BeautifulSoup(res.text, 'html.parser')\n",
    "hl_links = [li.a['href'] for li in soup.find_all('li', class_='headliner')]"
   ]
  },
  {
   "cell_type": "code",
   "execution_count": 92,
   "metadata": {},
   "outputs": [],
   "source": [
    "def get_schema_data(link):\n",
    "    res_hl  = r.get(BASE_URL + link)\n",
    "    soup_hl = BeautifulSoup(res_hl.text, 'html.parser')\n",
    "    hl_data = soup_hl.find('div', class_='performance-data')\n",
    "    return {\n",
    "        'name': soup_hl.find('div', itemprop='performer').find('h3').string,\n",
    "        'location': hl_data.find('div', itemprop='location').string,\n",
    "        'start_date': hl_data.find('div', itemprop='startDate')['content'],\n",
    "        'end_date': hl_data.find('span', itemprop='endDate')['content'],\n",
    "    }"
   ]
  },
  {
   "cell_type": "code",
   "execution_count": 94,
   "metadata": {},
   "outputs": [],
   "source": [
    "list_of_schema = [get_schema_data(link) for link in hl_links]\n",
    "df = pd.DataFrame(list_of_schema)\n",
    "df.to_csv(\"lowlands_schema.csv\")"
   ]
  },
  {
   "cell_type": "code",
   "execution_count": 8,
   "metadata": {},
   "outputs": [],
   "source": [
    "## write dataframe to a database with sqlalchemy engine\n",
    "from sqlalchemy import create_engine\n",
    "from config import Config\n",
    "import pandas as pd"
   ]
  },
  {
   "cell_type": "code",
   "execution_count": 29,
   "metadata": {},
   "outputs": [],
   "source": [
    "cfg = Config()\n",
    "engine = create_engine(cfg.SQLALCHEMY_DATABASE_URI, echo=True)\n",
    "# df.to_sql('artist', con=engine, if_exists='append', index=False)"
   ]
  },
  {
   "cell_type": "code",
   "execution_count": 30,
   "metadata": {},
   "outputs": [],
   "source": [
    "# read rows from postgresql sqlalchemy query into pandas dataframe\n",
    "engine = create_engine(cfg.SQLALCHEMY_DATABASE_URI, echo=False)\n",
    "df = pd.read_sql_table('artist', engine)"
   ]
  },
  {
   "cell_type": "code",
   "execution_count": 34,
   "metadata": {},
   "outputs": [],
   "source": [
    "df['starttime'] = df['startdate'].dt.strftime('%H:%M')\n",
    "df['endtime'] = df['enddate'].dt.strftime('%H:%M')"
   ]
  },
  {
   "cell_type": "code",
   "execution_count": 35,
   "metadata": {},
   "outputs": [
    {
     "data": {
      "text/html": [
       "<div>\n",
       "<style scoped>\n",
       "    .dataframe tbody tr th:only-of-type {\n",
       "        vertical-align: middle;\n",
       "    }\n",
       "\n",
       "    .dataframe tbody tr th {\n",
       "        vertical-align: top;\n",
       "    }\n",
       "\n",
       "    .dataframe thead th {\n",
       "        text-align: right;\n",
       "    }\n",
       "</style>\n",
       "<table border=\"1\" class=\"dataframe\">\n",
       "  <thead>\n",
       "    <tr style=\"text-align: right;\">\n",
       "      <th></th>\n",
       "      <th>artist_id</th>\n",
       "      <th>name</th>\n",
       "      <th>stage</th>\n",
       "      <th>startdate</th>\n",
       "      <th>enddate</th>\n",
       "      <th>festival</th>\n",
       "      <th>day</th>\n",
       "      <th>starttime</th>\n",
       "      <th>endtime</th>\n",
       "    </tr>\n",
       "  </thead>\n",
       "  <tbody>\n",
       "    <tr>\n",
       "      <th>31</th>\n",
       "      <td>31</td>\n",
       "      <td>Bicep</td>\n",
       "      <td>Alpha</td>\n",
       "      <td>2023-08-18 18:00:00</td>\n",
       "      <td>2023-08-18 19:15:00</td>\n",
       "      <td>Lowlands</td>\n",
       "      <td>Friday</td>\n",
       "      <td>18:00</td>\n",
       "      <td>19:15</td>\n",
       "    </tr>\n",
       "    <tr>\n",
       "      <th>32</th>\n",
       "      <td>32</td>\n",
       "      <td>Billie Eilish</td>\n",
       "      <td>Alpha</td>\n",
       "      <td>2023-08-20 21:45:00</td>\n",
       "      <td>2023-08-20 23:00:00</td>\n",
       "      <td>Lowlands</td>\n",
       "      <td>Sunday</td>\n",
       "      <td>21:45</td>\n",
       "      <td>23:00</td>\n",
       "    </tr>\n",
       "    <tr>\n",
       "      <th>38</th>\n",
       "      <td>38</td>\n",
       "      <td>Bombay Bicycle Club</td>\n",
       "      <td>Alpha</td>\n",
       "      <td>2023-08-20 15:40:00</td>\n",
       "      <td>2023-08-20 16:40:00</td>\n",
       "      <td>Lowlands</td>\n",
       "      <td>Sunday</td>\n",
       "      <td>15:40</td>\n",
       "      <td>16:40</td>\n",
       "    </tr>\n",
       "    <tr>\n",
       "      <th>46</th>\n",
       "      <td>46</td>\n",
       "      <td>Charlotte de Witte</td>\n",
       "      <td>Alpha</td>\n",
       "      <td>2023-08-19 22:45:00</td>\n",
       "      <td>2023-08-20 00:00:00</td>\n",
       "      <td>Lowlands</td>\n",
       "      <td>Saturday</td>\n",
       "      <td>22:45</td>\n",
       "      <td>00:00</td>\n",
       "    </tr>\n",
       "    <tr>\n",
       "      <th>64</th>\n",
       "      <td>64</td>\n",
       "      <td>De Jeugd Van Tegenwoordig</td>\n",
       "      <td>Alpha</td>\n",
       "      <td>2023-08-20 19:45:00</td>\n",
       "      <td>2023-08-20 20:45:00</td>\n",
       "      <td>Lowlands</td>\n",
       "      <td>Sunday</td>\n",
       "      <td>19:45</td>\n",
       "      <td>20:45</td>\n",
       "    </tr>\n",
       "    <tr>\n",
       "      <th>92</th>\n",
       "      <td>91</td>\n",
       "      <td>First Aid Kit</td>\n",
       "      <td>Alpha</td>\n",
       "      <td>2023-08-18 16:00:00</td>\n",
       "      <td>2023-08-18 17:00:00</td>\n",
       "      <td>Lowlands</td>\n",
       "      <td>Friday</td>\n",
       "      <td>16:00</td>\n",
       "      <td>17:00</td>\n",
       "    </tr>\n",
       "    <tr>\n",
       "      <th>94</th>\n",
       "      <td>93</td>\n",
       "      <td>Florence + the Machine</td>\n",
       "      <td>Alpha</td>\n",
       "      <td>2023-08-19 20:15:00</td>\n",
       "      <td>2023-08-19 21:30:00</td>\n",
       "      <td>Lowlands</td>\n",
       "      <td>Saturday</td>\n",
       "      <td>20:15</td>\n",
       "      <td>21:30</td>\n",
       "    </tr>\n",
       "    <tr>\n",
       "      <th>95</th>\n",
       "      <td>94</td>\n",
       "      <td>Foals</td>\n",
       "      <td>Alpha</td>\n",
       "      <td>2023-08-19 18:00:00</td>\n",
       "      <td>2023-08-19 19:00:00</td>\n",
       "      <td>Lowlands</td>\n",
       "      <td>Saturday</td>\n",
       "      <td>18:00</td>\n",
       "      <td>19:00</td>\n",
       "    </tr>\n",
       "    <tr>\n",
       "      <th>116</th>\n",
       "      <td>115</td>\n",
       "      <td>Joost</td>\n",
       "      <td>Alpha</td>\n",
       "      <td>2023-08-18 14:00:00</td>\n",
       "      <td>2023-08-18 15:00:00</td>\n",
       "      <td>Lowlands</td>\n",
       "      <td>Friday</td>\n",
       "      <td>14:00</td>\n",
       "      <td>15:00</td>\n",
       "    </tr>\n",
       "    <tr>\n",
       "      <th>154</th>\n",
       "      <td>153</td>\n",
       "      <td>Noord Nederlands Orkest</td>\n",
       "      <td>Alpha</td>\n",
       "      <td>2023-08-19 14:00:00</td>\n",
       "      <td>2023-08-19 15:00:00</td>\n",
       "      <td>Lowlands</td>\n",
       "      <td>Saturday</td>\n",
       "      <td>14:00</td>\n",
       "      <td>15:00</td>\n",
       "    </tr>\n",
       "  </tbody>\n",
       "</table>\n",
       "</div>"
      ],
      "text/plain": [
       "     artist_id                        name  stage           startdate  \\\n",
       "31          31                       Bicep  Alpha 2023-08-18 18:00:00   \n",
       "32          32              Billie Eilish   Alpha 2023-08-20 21:45:00   \n",
       "38          38        Bombay Bicycle Club   Alpha 2023-08-20 15:40:00   \n",
       "46          46         Charlotte de Witte   Alpha 2023-08-19 22:45:00   \n",
       "64          64  De Jeugd Van Tegenwoordig   Alpha 2023-08-20 19:45:00   \n",
       "92          91              First Aid Kit   Alpha 2023-08-18 16:00:00   \n",
       "94          93     Florence + the Machine   Alpha 2023-08-19 20:15:00   \n",
       "95          94                      Foals   Alpha 2023-08-19 18:00:00   \n",
       "116        115                      Joost   Alpha 2023-08-18 14:00:00   \n",
       "154        153    Noord Nederlands Orkest   Alpha 2023-08-19 14:00:00   \n",
       "\n",
       "                enddate  festival       day starttime endtime  \n",
       "31  2023-08-18 19:15:00  Lowlands    Friday     18:00   19:15  \n",
       "32  2023-08-20 23:00:00  Lowlands    Sunday     21:45   23:00  \n",
       "38  2023-08-20 16:40:00  Lowlands    Sunday     15:40   16:40  \n",
       "46  2023-08-20 00:00:00  Lowlands  Saturday     22:45   00:00  \n",
       "64  2023-08-20 20:45:00  Lowlands    Sunday     19:45   20:45  \n",
       "92  2023-08-18 17:00:00  Lowlands    Friday     16:00   17:00  \n",
       "94  2023-08-19 21:30:00  Lowlands  Saturday     20:15   21:30  \n",
       "95  2023-08-19 19:00:00  Lowlands  Saturday     18:00   19:00  \n",
       "116 2023-08-18 15:00:00  Lowlands    Friday     14:00   15:00  \n",
       "154 2023-08-19 15:00:00  Lowlands  Saturday     14:00   15:00  "
      ]
     },
     "execution_count": 35,
     "metadata": {},
     "output_type": "execute_result"
    }
   ],
   "source": [
    "df[df['stage'] == 'Alpha'].head(10)"
   ]
  },
  {
   "cell_type": "code",
   "execution_count": 38,
   "metadata": {},
   "outputs": [
    {
     "data": {
      "text/plain": [
       "238"
      ]
     },
     "execution_count": 38,
     "metadata": {},
     "output_type": "execute_result"
    }
   ],
   "source": [
    "engine = create_engine(cfg.SQLALCHEMY_DATABASE_URI, echo=False)\n",
    "df.to_sql('artist', con=engine, if_exists='append', index=False)"
   ]
  }
 ],
 "metadata": {
  "kernelspec": {
   "display_name": "Python 3",
   "language": "python",
   "name": "python3"
  },
  "language_info": {
   "codemirror_mode": {
    "name": "ipython",
    "version": 3
   },
   "file_extension": ".py",
   "mimetype": "text/x-python",
   "name": "python",
   "nbconvert_exporter": "python",
   "pygments_lexer": "ipython3",
   "version": "3.11.4"
  },
  "orig_nbformat": 4
 },
 "nbformat": 4,
 "nbformat_minor": 2
}
