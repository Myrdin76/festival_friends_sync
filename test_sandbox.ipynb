{
 "cells": [
  {
   "cell_type": "code",
   "execution_count": 54,
   "metadata": {},
   "outputs": [
    {
     "name": "stdout",
     "output_type": "stream",
     "text": [
      "[<User Myrdin>, <User Jorinde>, <User Myrdin2>, <User Myrdin3>, <User Myrdin4>, <User frank-hofman@live.nl>, <User Frank>, <User Defensienudist76>, <User Janneke>, <User wildeburger>, <User Merijn>, <User Gerthh>]\n",
      "[8, 9, 10, 11, 12, 13, 14, 16, 17, 19, 18, 20]\n"
     ]
    }
   ],
   "source": [
    "\n",
    "from app import app, db\n",
    "from app.models import User, Group, Artist, user_to_artist, GroupInvite\n",
    "from sqlalchemy import select, func, text, delete\n",
    "\n",
    "with app.app_context():\n",
    "    user = db.session.query(User).all()\n",
    "    uids = [u.user_id for u in user]\n",
    "    print(user)\n",
    "    print(uids)"
   ]
  }
 ],
 "metadata": {
  "kernelspec": {
   "display_name": "venv",
   "language": "python",
   "name": "python3"
  },
  "language_info": {
   "codemirror_mode": {
    "name": "ipython",
    "version": 3
   },
   "file_extension": ".py",
   "mimetype": "text/x-python",
   "name": "python",
   "nbconvert_exporter": "python",
   "pygments_lexer": "ipython3",
   "version": "3.11.4"
  },
  "orig_nbformat": 4
 },
 "nbformat": 4,
 "nbformat_minor": 2
}
