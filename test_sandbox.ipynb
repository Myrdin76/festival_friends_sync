{
 "cells": [
  {
   "cell_type": "code",
   "execution_count": 10,
   "metadata": {},
   "outputs": [
    {
     "name": "stdout",
     "output_type": "stream",
     "text": [
      "[8, 9]\n"
     ]
    }
   ],
   "source": [
    "from app import app, db\n",
    "from app.models import User, Group, Artist, user_to_artist, GroupInvite\n",
    "from sqlalchemy import select, func, text, delete\n",
    "\n",
    "with app.app_context():\n",
    "    user = db.session.query(User).all()\n",
    "    uids = [u.user_id for u in user]\n",
    "\n",
    "    # GroupInvite.query.filter().delete()\n",
    "    # db.session.commit()\n",
    "\n",
    "    # for uid in uids:\n",
    "    #     gadd = GroupInvite(to_group_id=2, from_user_id=8, to_user_id=uid)\n",
    "    #     db.session.add(gadd)\n",
    "    #     db.session.commit()\n",
    "    \n",
    "    stmt = delete(Group).where(Group.group_id > 3)\n",
    "    db.session.execute(stmt)\n",
    "    db.session.commit()"
   ]
  },
  {
   "cell_type": "code",
   "execution_count": 8,
   "metadata": {},
   "outputs": [
    {
     "data": {
      "text/plain": [
       "True"
      ]
     },
     "execution_count": 8,
     "metadata": {},
     "output_type": "execute_result"
    }
   ],
   "source": []
  },
  {
   "cell_type": "code",
   "execution_count": null,
   "metadata": {},
   "outputs": [],
   "source": []
  }
 ],
 "metadata": {
  "kernelspec": {
   "display_name": "venv",
   "language": "python",
   "name": "python3"
  },
  "language_info": {
   "codemirror_mode": {
    "name": "ipython",
    "version": 3
   },
   "file_extension": ".py",
   "mimetype": "text/x-python",
   "name": "python",
   "nbconvert_exporter": "python",
   "pygments_lexer": "ipython3",
   "version": "3.11.4"
  },
  "orig_nbformat": 4
 },
 "nbformat": 4,
 "nbformat_minor": 2
}
